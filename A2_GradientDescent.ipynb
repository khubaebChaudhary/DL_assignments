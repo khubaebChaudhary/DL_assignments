{
 "cells": [
  {
   "cell_type": "code",
   "execution_count": 2,
   "metadata": {},
   "outputs": [],
   "source": [
    "import numpy as np\n",
    "import pandas as pd\n",
    "import matplotlib.pyplot as plt"
   ]
  },
  {
   "cell_type": "code",
   "execution_count": 6,
   "metadata": {},
   "outputs": [],
   "source": [
    "df = pd.read_csv(r'C:\\Users\\kunal bondla\\OneDrive\\Desktop\\try\\deeplearning\\Data\\new_insurance_data.csv')"
   ]
  },
  {
   "cell_type": "code",
   "execution_count": 7,
   "metadata": {},
   "outputs": [],
   "source": [
    "X = df[['age', 'affordibility']].values\n",
    "y = df[['bought_insurance']].values"
   ]
  },
  {
   "cell_type": "code",
   "execution_count": 8,
   "metadata": {},
   "outputs": [],
   "source": [
    "X[:, 0] = X[:, 0] / 100  # Normalize the 'age' column"
   ]
  },
  {
   "cell_type": "code",
   "execution_count": 9,
   "metadata": {},
   "outputs": [],
   "source": [
    "X = np.hstack((np.ones((X.shape[0], 1)), X))  # Add bias term as the first column"
   ]
  },
  {
   "cell_type": "code",
   "execution_count": 10,
   "metadata": {},
   "outputs": [],
   "source": [
    "# Sigmoid function\n",
    "def sigmoid(z):\n",
    "    return 1 / (1 + np.exp(-z))\n",
    "\n",
    "# Binary cross-entropy loss\n",
    "def compute_loss(y, y_pred):\n",
    "    return -np.mean(y * np.log(y_pred) + (1 - y) * np.log(1 - y_pred))\n",
    "\n",
    "def gradient_descent(X, y, lr=0.1, epochs=100):\n",
    "    m, n = X.shape  # m: number of samples, n: number of features (including bias)\n",
    "    weights = np.zeros(n).reshape(-1, 1)  # Initialize weights to zeros (n, 1)\n",
    "    losses = []\n",
    "\n",
    "    # Ensure y is reshaped correctly\n",
    "    y = y.reshape(-1, 1)\n",
    "\n",
    "    for epoch in range(epochs):\n",
    "        # Linear combination\n",
    "        z = np.dot(X, weights)  # Shape: (m, 1)\n",
    "        # Sigmoid activation\n",
    "        y_pred = 1 / (1 + np.exp(-z))  # Shape: (m, 1)\n",
    "        # Compute gradient\n",
    "        gradient = np.dot(X.T, (y_pred - y)) / m  # Shape: (n, 1)\n",
    "        # Update weights\n",
    "        weights -= lr * gradient\n",
    "        # Compute loss\n",
    "        loss = -np.mean(y * np.log(y_pred) + (1 - y) * np.log(1 - y_pred))  # Binary cross-entropy loss\n",
    "        losses.append(loss)\n",
    "\n",
    "        # Print progress every 10 epochs\n",
    "        if epoch % 10 == 0:\n",
    "            print(f\"Epoch {epoch}, Loss: {loss:.4f}\")\n",
    "    \n",
    "    return weights, losses\n"
   ]
  },
  {
   "cell_type": "code",
   "execution_count": 11,
   "metadata": {},
   "outputs": [
    {
     "name": "stdout",
     "output_type": "stream",
     "text": [
      "Epoch 0, Loss: 0.6931\n",
      "Epoch 10, Loss: 0.6862\n",
      "Epoch 20, Loss: 0.6808\n",
      "Epoch 30, Loss: 0.6763\n",
      "Epoch 40, Loss: 0.6722\n",
      "Epoch 50, Loss: 0.6685\n",
      "Epoch 60, Loss: 0.6652\n",
      "Epoch 70, Loss: 0.6621\n",
      "Epoch 80, Loss: 0.6592\n",
      "Epoch 90, Loss: 0.6565\n",
      "Trained Weights (including bias): [[-0.25495847]\n",
      " [ 0.        ]\n",
      " [ 0.55159276]]\n"
     ]
    }
   ],
   "source": [
    "# Run gradient descent\n",
    "learning_rate = 0.1\n",
    "epochs = 100\n",
    "weights, losses = gradient_descent(X, y, lr=learning_rate, epochs=epochs)\n",
    "\n",
    "# Print final weights\n",
    "print(\"Trained Weights (including bias):\", weights)"
   ]
  },
  {
   "cell_type": "code",
   "execution_count": 12,
   "metadata": {},
   "outputs": [],
   "source": [
    "# Calculate predictions\n",
    "z = np.dot(X, weights)\n",
    "y_pred = sigmoid(z)\n",
    "y_pred_classes = (y_pred >= 0.5).astype(int)  # Convert probabilities to binary predictions"
   ]
  },
  {
   "cell_type": "code",
   "execution_count": 13,
   "metadata": {},
   "outputs": [
    {
     "name": "stdout",
     "output_type": "stream",
     "text": [
      "Accuracy: 0.6786\n"
     ]
    }
   ],
   "source": [
    "# Calculate predictions\n",
    "z = np.dot(X, weights)\n",
    "y_pred = sigmoid(z)\n",
    "y_pred_classes = (y_pred >= 0.5).astype(int)  # Convert probabilities to binary predictions\n",
    "\n",
    "# Calculate accuracy\n",
    "accuracy = np.mean(y_pred_classes == y)\n",
    "print(f\"Accuracy: {accuracy:.4f}\")"
   ]
  }
 ],
 "metadata": {
  "kernelspec": {
   "display_name": "venv",
   "language": "python",
   "name": "python3"
  },
  "language_info": {
   "codemirror_mode": {
    "name": "ipython",
    "version": 3
   },
   "file_extension": ".py",
   "mimetype": "text/x-python",
   "name": "python",
   "nbconvert_exporter": "python",
   "pygments_lexer": "ipython3",
   "version": "3.11.9"
  }
 },
 "nbformat": 4,
 "nbformat_minor": 2
}
